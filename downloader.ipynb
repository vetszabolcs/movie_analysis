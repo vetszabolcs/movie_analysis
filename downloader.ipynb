{
 "cells": [
  {
   "cell_type": "code",
   "execution_count": 319,
   "id": "9ea7ebce",
   "metadata": {},
   "outputs": [],
   "source": [
    "import pandas as pd\n",
    "from bs4 import BeautifulSoup\n",
    "from requests import get\n",
    "from pyarrow import feather\n",
    "import numpy as np\n",
    "import re, psycopg2\n",
    "import pandas as pd\n",
    "from sqlalchemy import create_engine"
   ]
  },
  {
   "cell_type": "code",
   "execution_count": 291,
   "id": "2241fc22",
   "metadata": {},
   "outputs": [
    {
     "data": {
      "text/plain": [
       "['#Lucky Number (2015).srt',\n",
       " '#Screamers (2016).srt',\n",
       " \"'Neath the Arizona Skies (1934).srt\",\n",
       " \"'Pimpernel' Smith (1941).srt\",\n",
       " \"'Round Midnight (1986).srt\"]"
      ]
     },
     "execution_count": 291,
     "metadata": {},
     "output_type": "execute_result"
    }
   ],
   "source": [
    "# Get the list of donwloaded subtitles (with R)\n",
    "subs = os.listdir(r\"D:\\Users\\witen\\OneDrive\\HUB\\movie_analysis\\subtitles\")\n",
    "subs.pop(subs.index(\"temp\"))\n",
    "subs[0:5]"
   ]
  }
 ],
 "metadata": {
  "kernelspec": {
   "display_name": "Python 3 (ipykernel)",
   "language": "python",
   "name": "python3"
  },
  "language_info": {
   "codemirror_mode": {
    "name": "ipython",
    "version": 3
   },
   "file_extension": ".py",
   "mimetype": "text/x-python",
   "name": "python",
   "nbconvert_exporter": "python",
   "pygments_lexer": "ipython3",
   "version": "3.9.12"
  }
 },
 "nbformat": 4,
 "nbformat_minor": 5
}

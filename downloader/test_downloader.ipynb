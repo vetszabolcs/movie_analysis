{
 "cells": [
  {
   "cell_type": "code",
   "execution_count": 78,
   "outputs": [],
   "source": [
    "from constants import *\n",
    "from urllib.parse import urlencode\n",
    "from requests import get\n",
    "from bs4 import BeautifulSoup\n",
    "import os\n",
    "from glob import glob\n",
    "import shutil\n",
    "import time\n",
    "import re\n",
    "from zipfile import ZipFile\n",
    "from constants import forbidden_chars\n",
    "\n",
    "def get_movie_site(title):\n",
    "    search = URL + \"/search?\" + urlencode({\"q\": title})\n",
    "    soup = BeautifulSoup(get(search).text, features=\"lxml\")\n",
    "    body = str(soup.find(\"div\", class_=\"media-body\"))\n",
    "    movie_endp = re.search(\"href=\\\"(.*)\\\"\", body)[1]\n",
    "    return URL + movie_endp\n",
    "\n",
    "\n",
    "def get_title_and_download_site(movie_site) -> tuple:\n",
    "    soup = BeautifulSoup(get(movie_site).text, features=\"lxml\")\n",
    "    title = soup.find(class_=\"movie-main-title\").text\n",
    "    table = soup.find(class_=\"table other-subs\")\n",
    "    sub_link = re.search(\"\\\"/subtitle.*-english-yify.*?\\\"\", str(table))[0].replace(\"\\\"\", \"\")\n",
    "    download_site = URL + sub_link\n",
    "    return title, download_site\n",
    "\n",
    "\n",
    "def get_donwload_link(download_site):\n",
    "    soup = BeautifulSoup(get(download_site).text, features=\"html.parser\")\n",
    "    download_endp = soup.find(class_=\"download-subtitle\").get(\"href\")\n",
    "    download_link = URL + download_endp\n",
    "    return download_link\n",
    "\n",
    "\n",
    "def donwload_file(url, dest):\n",
    "    r = get(url)\n",
    "    with open(dest, 'wb') as out:\n",
    "        out.write(r.content)"
   ],
   "metadata": {
    "collapsed": false,
    "pycharm": {
     "name": "#%%\n"
    }
   }
  },
  {
   "cell_type": "code",
   "execution_count": 62,
   "outputs": [
    {
     "data": {
      "text/plain": "'https://yifysubtitles.org/movie-imdb/tt10642250'"
     },
     "execution_count": 62,
     "metadata": {},
     "output_type": "execute_result"
    }
   ],
   "source": [
    "title = \"Death of Nintendo (2020)\"\n",
    "site = get_movie_site(title)\n",
    "site"
   ],
   "metadata": {
    "collapsed": false,
    "pycharm": {
     "name": "#%%\n"
    }
   }
  },
  {
   "cell_type": "code",
   "execution_count": 63,
   "outputs": [
    {
     "data": {
      "text/plain": "('Death of Nintendo (2020)',\n 'https://yifysubtitles.org/subtitles/death-of-nintendo-2020-english-yify-386419')"
     },
     "execution_count": 63,
     "metadata": {},
     "output_type": "execute_result"
    }
   ],
   "source": [
    "title, download_site = get_title_and_download_site(site)\n",
    "title, download_site"
   ],
   "metadata": {
    "collapsed": false,
    "pycharm": {
     "name": "#%%\n"
    }
   }
  },
  {
   "cell_type": "code",
   "execution_count": 68,
   "outputs": [],
   "source": [
    "download_link = get_donwload_link(download_site)"
   ],
   "metadata": {
    "collapsed": false,
    "pycharm": {
     "name": "#%%\n"
    }
   }
  }
 ],
 "metadata": {
  "kernelspec": {
   "display_name": "Python 3",
   "language": "python",
   "name": "python3"
  },
  "language_info": {
   "codemirror_mode": {
    "name": "ipython",
    "version": 2
   },
   "file_extension": ".py",
   "mimetype": "text/x-python",
   "name": "python",
   "nbconvert_exporter": "python",
   "pygments_lexer": "ipython2",
   "version": "2.7.6"
  }
 },
 "nbformat": 4,
 "nbformat_minor": 0
}